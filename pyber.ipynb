{
 "cells": [
  {
   "cell_type": "code",
   "execution_count": 543,
   "metadata": {},
   "outputs": [],
   "source": [
    "%matplotlib inline\n",
    "# Dependencies and Setup\n",
    "import matplotlib.pyplot as plt\n",
    "import pandas as pd\n",
    "import numpy as np"
   ]
  },
  {
   "cell_type": "code",
   "execution_count": 544,
   "metadata": {},
   "outputs": [],
   "source": [
    "# File to Load\n",
    "city_csv = \"data/city_data.csv\"\n",
    "ride_csv = \"data/ride_data.csv\"\n",
    "\n",
    "# Read the City and Ride Data\n",
    "city_data =  pd.read_csv(\"data/city_data.csv\")\n",
    "ride_data = pd.read_csv(\"data/ride_data.csv\")"
   ]
  },
  {
   "cell_type": "code",
   "execution_count": 545,
   "metadata": {
    "scrolled": false
   },
   "outputs": [
    {
     "data": {
      "text/html": [
       "<div>\n",
       "<style scoped>\n",
       "    .dataframe tbody tr th:only-of-type {\n",
       "        vertical-align: middle;\n",
       "    }\n",
       "\n",
       "    .dataframe tbody tr th {\n",
       "        vertical-align: top;\n",
       "    }\n",
       "\n",
       "    .dataframe thead th {\n",
       "        text-align: right;\n",
       "    }\n",
       "</style>\n",
       "<table border=\"1\" class=\"dataframe\">\n",
       "  <thead>\n",
       "    <tr style=\"text-align: right;\">\n",
       "      <th></th>\n",
       "      <th>city</th>\n",
       "      <th>driver_count</th>\n",
       "      <th>type</th>\n",
       "    </tr>\n",
       "  </thead>\n",
       "  <tbody>\n",
       "    <tr>\n",
       "      <th>0</th>\n",
       "      <td>Richardfort</td>\n",
       "      <td>38</td>\n",
       "      <td>Urban</td>\n",
       "    </tr>\n",
       "    <tr>\n",
       "      <th>1</th>\n",
       "      <td>Williamsstad</td>\n",
       "      <td>59</td>\n",
       "      <td>Urban</td>\n",
       "    </tr>\n",
       "    <tr>\n",
       "      <th>2</th>\n",
       "      <td>Port Angela</td>\n",
       "      <td>67</td>\n",
       "      <td>Urban</td>\n",
       "    </tr>\n",
       "    <tr>\n",
       "      <th>3</th>\n",
       "      <td>Rodneyfort</td>\n",
       "      <td>34</td>\n",
       "      <td>Urban</td>\n",
       "    </tr>\n",
       "    <tr>\n",
       "      <th>4</th>\n",
       "      <td>West Robert</td>\n",
       "      <td>39</td>\n",
       "      <td>Urban</td>\n",
       "    </tr>\n",
       "  </tbody>\n",
       "</table>\n",
       "</div>"
      ],
      "text/plain": [
       "           city  driver_count   type\n",
       "0   Richardfort            38  Urban\n",
       "1  Williamsstad            59  Urban\n",
       "2   Port Angela            67  Urban\n",
       "3    Rodneyfort            34  Urban\n",
       "4   West Robert            39  Urban"
      ]
     },
     "execution_count": 545,
     "metadata": {},
     "output_type": "execute_result"
    }
   ],
   "source": [
    "city_data.head()"
   ]
  },
  {
   "cell_type": "code",
   "execution_count": 546,
   "metadata": {
    "scrolled": true
   },
   "outputs": [
    {
     "data": {
      "text/html": [
       "<div>\n",
       "<style scoped>\n",
       "    .dataframe tbody tr th:only-of-type {\n",
       "        vertical-align: middle;\n",
       "    }\n",
       "\n",
       "    .dataframe tbody tr th {\n",
       "        vertical-align: top;\n",
       "    }\n",
       "\n",
       "    .dataframe thead th {\n",
       "        text-align: right;\n",
       "    }\n",
       "</style>\n",
       "<table border=\"1\" class=\"dataframe\">\n",
       "  <thead>\n",
       "    <tr style=\"text-align: right;\">\n",
       "      <th></th>\n",
       "      <th>city</th>\n",
       "      <th>date</th>\n",
       "      <th>fare</th>\n",
       "      <th>ride_id</th>\n",
       "    </tr>\n",
       "  </thead>\n",
       "  <tbody>\n",
       "    <tr>\n",
       "      <th>0</th>\n",
       "      <td>Lake Jonathanshire</td>\n",
       "      <td>2018-01-14 10:14:22</td>\n",
       "      <td>13.83</td>\n",
       "      <td>5739410935873</td>\n",
       "    </tr>\n",
       "    <tr>\n",
       "      <th>1</th>\n",
       "      <td>South Michelleport</td>\n",
       "      <td>2018-03-04 18:24:09</td>\n",
       "      <td>30.24</td>\n",
       "      <td>2343912425577</td>\n",
       "    </tr>\n",
       "    <tr>\n",
       "      <th>2</th>\n",
       "      <td>Port Samanthamouth</td>\n",
       "      <td>2018-02-24 04:29:00</td>\n",
       "      <td>33.44</td>\n",
       "      <td>2005065760003</td>\n",
       "    </tr>\n",
       "    <tr>\n",
       "      <th>3</th>\n",
       "      <td>Rodneyfort</td>\n",
       "      <td>2018-02-10 23:22:03</td>\n",
       "      <td>23.44</td>\n",
       "      <td>5149245426178</td>\n",
       "    </tr>\n",
       "    <tr>\n",
       "      <th>4</th>\n",
       "      <td>South Jack</td>\n",
       "      <td>2018-03-06 04:28:35</td>\n",
       "      <td>34.58</td>\n",
       "      <td>3908451377344</td>\n",
       "    </tr>\n",
       "  </tbody>\n",
       "</table>\n",
       "</div>"
      ],
      "text/plain": [
       "                 city                 date   fare        ride_id\n",
       "0  Lake Jonathanshire  2018-01-14 10:14:22  13.83  5739410935873\n",
       "1  South Michelleport  2018-03-04 18:24:09  30.24  2343912425577\n",
       "2  Port Samanthamouth  2018-02-24 04:29:00  33.44  2005065760003\n",
       "3          Rodneyfort  2018-02-10 23:22:03  23.44  5149245426178\n",
       "4          South Jack  2018-03-06 04:28:35  34.58  3908451377344"
      ]
     },
     "execution_count": 546,
     "metadata": {},
     "output_type": "execute_result"
    }
   ],
   "source": [
    "ride_data.head()"
   ]
  },
  {
   "cell_type": "code",
   "execution_count": 547,
   "metadata": {
    "scrolled": false
   },
   "outputs": [
    {
     "data": {
      "text/html": [
       "<div>\n",
       "<style scoped>\n",
       "    .dataframe tbody tr th:only-of-type {\n",
       "        vertical-align: middle;\n",
       "    }\n",
       "\n",
       "    .dataframe tbody tr th {\n",
       "        vertical-align: top;\n",
       "    }\n",
       "\n",
       "    .dataframe thead th {\n",
       "        text-align: right;\n",
       "    }\n",
       "</style>\n",
       "<table border=\"1\" class=\"dataframe\">\n",
       "  <thead>\n",
       "    <tr style=\"text-align: right;\">\n",
       "      <th></th>\n",
       "      <th>city</th>\n",
       "      <th>date</th>\n",
       "      <th>fare</th>\n",
       "      <th>ride_id</th>\n",
       "      <th>driver_count</th>\n",
       "      <th>type</th>\n",
       "    </tr>\n",
       "  </thead>\n",
       "  <tbody>\n",
       "    <tr>\n",
       "      <th>0</th>\n",
       "      <td>Lake Jonathanshire</td>\n",
       "      <td>2018-01-14 10:14:22</td>\n",
       "      <td>13.83</td>\n",
       "      <td>5739410935873</td>\n",
       "      <td>5</td>\n",
       "      <td>Urban</td>\n",
       "    </tr>\n",
       "    <tr>\n",
       "      <th>1</th>\n",
       "      <td>South Michelleport</td>\n",
       "      <td>2018-03-04 18:24:09</td>\n",
       "      <td>30.24</td>\n",
       "      <td>2343912425577</td>\n",
       "      <td>72</td>\n",
       "      <td>Urban</td>\n",
       "    </tr>\n",
       "    <tr>\n",
       "      <th>2</th>\n",
       "      <td>Port Samanthamouth</td>\n",
       "      <td>2018-02-24 04:29:00</td>\n",
       "      <td>33.44</td>\n",
       "      <td>2005065760003</td>\n",
       "      <td>57</td>\n",
       "      <td>Urban</td>\n",
       "    </tr>\n",
       "    <tr>\n",
       "      <th>3</th>\n",
       "      <td>Rodneyfort</td>\n",
       "      <td>2018-02-10 23:22:03</td>\n",
       "      <td>23.44</td>\n",
       "      <td>5149245426178</td>\n",
       "      <td>34</td>\n",
       "      <td>Urban</td>\n",
       "    </tr>\n",
       "    <tr>\n",
       "      <th>4</th>\n",
       "      <td>South Jack</td>\n",
       "      <td>2018-03-06 04:28:35</td>\n",
       "      <td>34.58</td>\n",
       "      <td>3908451377344</td>\n",
       "      <td>46</td>\n",
       "      <td>Urban</td>\n",
       "    </tr>\n",
       "  </tbody>\n",
       "</table>\n",
       "</div>"
      ],
      "text/plain": [
       "                 city                 date   fare        ride_id  \\\n",
       "0  Lake Jonathanshire  2018-01-14 10:14:22  13.83  5739410935873   \n",
       "1  South Michelleport  2018-03-04 18:24:09  30.24  2343912425577   \n",
       "2  Port Samanthamouth  2018-02-24 04:29:00  33.44  2005065760003   \n",
       "3          Rodneyfort  2018-02-10 23:22:03  23.44  5149245426178   \n",
       "4          South Jack  2018-03-06 04:28:35  34.58  3908451377344   \n",
       "\n",
       "   driver_count   type  \n",
       "0             5  Urban  \n",
       "1            72  Urban  \n",
       "2            57  Urban  \n",
       "3            34  Urban  \n",
       "4            46  Urban  "
      ]
     },
     "execution_count": 547,
     "metadata": {},
     "output_type": "execute_result"
    }
   ],
   "source": [
    "# Combining both datasets\n",
    "merged_data = pd.merge(ride_data, city_data, how='left', on='city')\n",
    "merged_data.head()"
   ]
  },
  {
   "cell_type": "code",
   "execution_count": 548,
   "metadata": {
    "scrolled": false
   },
   "outputs": [
    {
     "data": {
      "text/plain": [
       "West Angela        39\n",
       "South Karenland    38\n",
       "North Jason        35\n",
       "Liumouth           33\n",
       "Port Frank         33\n",
       "Name: city, dtype: int64"
      ]
     },
     "execution_count": 548,
     "metadata": {},
     "output_type": "execute_result"
    }
   ],
   "source": [
    "# Data contains duplicate city entries\n",
    "entries = merged_data.iloc[:, 0].value_counts()\n",
    "entries.head()"
   ]
  },
  {
   "cell_type": "code",
   "execution_count": 549,
   "metadata": {
    "scrolled": true
   },
   "outputs": [
    {
     "data": {
      "text/plain": [
       "city             object\n",
       "date             object\n",
       "fare            float64\n",
       "ride_id           int64\n",
       "driver_count      int64\n",
       "type             object\n",
       "dtype: object"
      ]
     },
     "execution_count": 549,
     "metadata": {},
     "output_type": "execute_result"
    }
   ],
   "source": [
    "# Analyzing data types in each column\n",
    "merged_data.dtypes"
   ]
  },
  {
   "cell_type": "code",
   "execution_count": 550,
   "metadata": {
    "scrolled": false
   },
   "outputs": [
    {
     "data": {
      "text/plain": [
       "city            0\n",
       "date            0\n",
       "fare            0\n",
       "ride_id         0\n",
       "driver_count    0\n",
       "type            0\n",
       "dtype: int64"
      ]
     },
     "execution_count": 550,
     "metadata": {},
     "output_type": "execute_result"
    }
   ],
   "source": [
    "# Checking for missing values\n",
    "merged_data.isna().sum()"
   ]
  },
  {
   "cell_type": "code",
   "execution_count": 551,
   "metadata": {
    "scrolled": true
   },
   "outputs": [],
   "source": [
    "# Grouping taxi data by city type and city name\n",
    "grouped_city_data = merged_data.groupby(['type', 'city'])"
   ]
  },
  {
   "cell_type": "code",
   "execution_count": 552,
   "metadata": {
    "scrolled": true
   },
   "outputs": [
    {
     "data": {
      "text/plain": [
       "array([ 7,  7,  4,  1,  4,  2,  6,  2,  1,  8,  1,  6,  9,  7,  1,  7,  1,\n",
       "        4, 11, 22, 10, 23, 23,  7, 22, 20,  5,  2, 25,  3, 22,  4, 23, 23,\n",
       "        4, 14, 19, 20, 17, 20, 19, 11,  1,  7,  7, 20, 10,  1, 21, 20, 16,\n",
       "       12,  4,  2, 12, 26, 52, 41, 49, 65, 37, 61, 37, 36, 64, 27, 39, 39,\n",
       "       22,  5, 19,  5, 58, 17, 69, 23, 25, 50, 33, 44, 44, 18, 33,  6, 19,\n",
       "       22, 59, 67,  7, 23,  3, 57, 11, 67, 38, 47, 12, 34, 25, 64, 21, 11,\n",
       "       46,  4, 10, 72, 38, 45, 48, 70, 32, 25, 57, 28, 45, 25, 39, 73, 59,\n",
       "       46])"
      ]
     },
     "execution_count": 552,
     "metadata": {},
     "output_type": "execute_result"
    }
   ],
   "source": [
    "#Calculating the total number of drivers in each city\n",
    "tot_city_drivers = grouped_city_data.driver_count.unique()\n",
    "tot_city_drivers = np.concatenate(tot_city_drivers, axis=0 )\n",
    "tot_city_drivers"
   ]
  },
  {
   "cell_type": "code",
   "execution_count": 553,
   "metadata": {},
   "outputs": [
    {
     "data": {
      "text/plain": [
       "type   city          \n",
       "Rural  Bradshawfurt      400.64\n",
       "       Garzaport          72.37\n",
       "       Harringtonfort    200.82\n",
       "       Jessicaport       216.08\n",
       "       Lake Jamie        206.15\n",
       "Name: fare, dtype: float64"
      ]
     },
     "execution_count": 553,
     "metadata": {},
     "output_type": "execute_result"
    }
   ],
   "source": [
    "# Calculating the total fares for each city\n",
    "tot_city_fares = grouped_city_data.fare.sum()\n",
    "tot_city_fares.head()"
   ]
  },
  {
   "cell_type": "code",
   "execution_count": 554,
   "metadata": {},
   "outputs": [
    {
     "data": {
      "text/plain": [
       "type   city          \n",
       "Rural  Bradshawfurt      10\n",
       "       Garzaport          3\n",
       "       Harringtonfort     6\n",
       "       Jessicaport        6\n",
       "       Lake Jamie         6\n",
       "Name: ride_id, dtype: int64"
      ]
     },
     "execution_count": 554,
     "metadata": {},
     "output_type": "execute_result"
    }
   ],
   "source": [
    "# Calculating the total number of rides for each city\n",
    "tot_city_rides = grouped_city_data.ride_id.count()\n",
    "tot_city_rides.head()"
   ]
  },
  {
   "cell_type": "code",
   "execution_count": 555,
   "metadata": {},
   "outputs": [
    {
     "data": {
      "text/plain": [
       "type   city          \n",
       "Rural  Bradshawfurt      40.06\n",
       "       Garzaport         24.12\n",
       "       Harringtonfort    33.47\n",
       "       Jessicaport       36.01\n",
       "       Lake Jamie        34.36\n",
       "dtype: float64"
      ]
     },
     "execution_count": 555,
     "metadata": {},
     "output_type": "execute_result"
    }
   ],
   "source": [
    "# Calculating the average fare for each city\n",
    "avg_city_fare = round(tot_city_fares / tot_city_rides, 2)\n",
    "avg_city_fare.head()"
   ]
  },
  {
   "cell_type": "code",
   "execution_count": 556,
   "metadata": {},
   "outputs": [],
   "source": [
    "final_city_data = {'Total Number of Drivers': tot_city_drivers,\n",
    "                   'Total Number of Ride': tot_city_rides,\n",
    "                   'Total Fares ($)': tot_city_fares, \n",
    "                   'Average Fare ($)': avg_city_fare\n",
    "                  }"
   ]
  },
  {
   "cell_type": "code",
   "execution_count": 557,
   "metadata": {
    "scrolled": false
   },
   "outputs": [
    {
     "data": {
      "text/html": [
       "<div>\n",
       "<style scoped>\n",
       "    .dataframe tbody tr th:only-of-type {\n",
       "        vertical-align: middle;\n",
       "    }\n",
       "\n",
       "    .dataframe tbody tr th {\n",
       "        vertical-align: top;\n",
       "    }\n",
       "\n",
       "    .dataframe thead th {\n",
       "        text-align: right;\n",
       "    }\n",
       "</style>\n",
       "<table border=\"1\" class=\"dataframe\">\n",
       "  <thead>\n",
       "    <tr style=\"text-align: right;\">\n",
       "      <th></th>\n",
       "      <th></th>\n",
       "      <th>Total Number of Drivers</th>\n",
       "      <th>Total Number of Ride</th>\n",
       "      <th>Total Fares ($)</th>\n",
       "      <th>Average Fare ($)</th>\n",
       "    </tr>\n",
       "    <tr>\n",
       "      <th>type</th>\n",
       "      <th>city</th>\n",
       "      <th></th>\n",
       "      <th></th>\n",
       "      <th></th>\n",
       "      <th></th>\n",
       "    </tr>\n",
       "  </thead>\n",
       "  <tbody>\n",
       "    <tr>\n",
       "      <th rowspan=\"5\" valign=\"top\">Rural</th>\n",
       "      <th>Bradshawfurt</th>\n",
       "      <td>7</td>\n",
       "      <td>10</td>\n",
       "      <td>400.64</td>\n",
       "      <td>40.06</td>\n",
       "    </tr>\n",
       "    <tr>\n",
       "      <th>Garzaport</th>\n",
       "      <td>7</td>\n",
       "      <td>3</td>\n",
       "      <td>72.37</td>\n",
       "      <td>24.12</td>\n",
       "    </tr>\n",
       "    <tr>\n",
       "      <th>Harringtonfort</th>\n",
       "      <td>4</td>\n",
       "      <td>6</td>\n",
       "      <td>200.82</td>\n",
       "      <td>33.47</td>\n",
       "    </tr>\n",
       "    <tr>\n",
       "      <th>Jessicaport</th>\n",
       "      <td>1</td>\n",
       "      <td>6</td>\n",
       "      <td>216.08</td>\n",
       "      <td>36.01</td>\n",
       "    </tr>\n",
       "    <tr>\n",
       "      <th>Lake Jamie</th>\n",
       "      <td>4</td>\n",
       "      <td>6</td>\n",
       "      <td>206.15</td>\n",
       "      <td>34.36</td>\n",
       "    </tr>\n",
       "  </tbody>\n",
       "</table>\n",
       "</div>"
      ],
      "text/plain": [
       "                      Total Number of Drivers  Total Number of Ride  \\\n",
       "type  city                                                            \n",
       "Rural Bradshawfurt                          7                    10   \n",
       "      Garzaport                             7                     3   \n",
       "      Harringtonfort                        4                     6   \n",
       "      Jessicaport                           1                     6   \n",
       "      Lake Jamie                            4                     6   \n",
       "\n",
       "                      Total Fares ($)  Average Fare ($)  \n",
       "type  city                                               \n",
       "Rural Bradshawfurt             400.64             40.06  \n",
       "      Garzaport                 72.37             24.12  \n",
       "      Harringtonfort           200.82             33.47  \n",
       "      Jessicaport              216.08             36.01  \n",
       "      Lake Jamie               206.15             34.36  "
      ]
     },
     "execution_count": 557,
     "metadata": {},
     "output_type": "execute_result"
    }
   ],
   "source": [
    "city_data_df = pd.DataFrame(final_city_data)\n",
    "city_data_df.head()"
   ]
  },
  {
   "cell_type": "code",
   "execution_count": 558,
   "metadata": {
    "scrolled": true
   },
   "outputs": [],
   "source": [
    "alt_city_data = city_data_df.reset_index()"
   ]
  },
  {
   "cell_type": "code",
   "execution_count": 559,
   "metadata": {},
   "outputs": [],
   "source": [
    "# Calculating the total number of drivers in each city type\n",
    "rural_drivers = np.array(alt_city_data.loc[alt_city_data['type'] == 'Rural']['Total Number of Drivers'])\n",
    "urban_drivers = np.array(alt_city_data.loc[alt_city_data['type'] == 'Urban']['Total Number of Drivers'])\n",
    "suburban_drivers = np.array(alt_city_data.loc[alt_city_data['type'] == 'Suburban']['Total Number of Drivers'])\n",
    "\n",
    "# Calculating the average fare in each city type\n",
    "rural_fares = np.array(alt_city_data.loc[alt_city_data['type'] == 'Rural']['Average Fare ($)'])\n",
    "urban_fares = np.array(alt_city_data.loc[alt_city_data['type'] == 'Urban']['Average Fare ($)'])\n",
    "suburban_fares = np.array(alt_city_data.loc[alt_city_data['type'] == 'Suburban']['Average Fare ($)'])\n",
    "\n",
    "# Calculating the total number of rides in each city type\n",
    "rural_rides = np.array(alt_city_data.loc[alt_city_data['type'] == 'Rural']['Total Number of Ride'])\n",
    "urban_rides = np.array(alt_city_data.loc[alt_city_data['type'] == 'Urban']['Total Number of Ride'])\n",
    "suburban_rides = np.array(alt_city_data.loc[alt_city_data['type'] == 'Suburban']['Total Number of Ride'])"
   ]
  },
  {
   "cell_type": "markdown",
   "metadata": {},
   "source": [
    "## Bubble Plot of Ride Sharing Data"
   ]
  },
  {
   "cell_type": "code",
   "execution_count": 560,
   "metadata": {
    "scrolled": true
   },
   "outputs": [
    {
     "data": {
      "image/png": "[encoded data removed]",
      "text/plain": [
       "<Figure size 432x288 with 1 Axes>"
      ]
     },
     "metadata": {
      "needs_background": "light"
     },
     "output_type": "display_data"
    }
   ],
   "source": [
    "plt.figure()\n",
    "\n",
    "# Setting the x, y and z axes for the graph and plotting for each city type\n",
    "plt.scatter(urban_rides, urban_fares, s=urban_drivers*10, \n",
    "            marker ='o', cmap=\"reds\", edgecolors='grey',alpha = 0.4, label=\"Urban\")\n",
    "\n",
    "plt.scatter(suburban_rides, suburban_fares, s=suburban_drivers*10, \n",
    "            marker ='o', cmap=\"blues\", edgecolors='grey',alpha = 0.4, label=\"Suburban\")\n",
    "\n",
    "plt.scatter(rural_rides, rural_fares, s=rural_drivers*10, \n",
    "            marker ='o', cmap =\"yellows\", edgecolors='grey',alpha = 0.4, label=\"Rural\")\n",
    "\n",
    "\n",
    "# Adding chart title\n",
    "plt.title(\"Pyber Ride Sharing Data (2016)\")\n",
    "plt.xlabel(\"Total Numbers of Rides (Per City))\")\n",
    "plt.ylabel(\"Average Fare($)\")\n",
    "\n",
    "# Showing grid lines\n",
    "plt.grid(True, alpha = 0.2)\n",
    "\n",
    "# Cobfiguring legend\n",
    "lgnd = plt.legend(title='City Type', loc=\"best\", markerscale=2, scatterpoints=1, fontsize=10)\n",
    "plt.text(42,35,\"Note: \\nCircle size correlates with driver count per city.\", fontsize = 9)\n",
    "\n",
    "lgnd.legendHandles[0]._sizes = [50]\n",
    "lgnd.legendHandles[1]._sizes = [50]\n",
    "lgnd.legendHandles[2]._sizes = [50]\n",
    "\n",
    "# Saving figure\n",
    "plt.savefig(\"figures/city_type_data.png\", bbox_inches=\"tight\")\n",
    "\n",
    "plt.show()\n"
   ]
  },
  {
   "cell_type": "markdown",
   "metadata": {},
   "source": [
    "---"
   ]
  },
  {
   "cell_type": "markdown",
   "metadata": {},
   "source": [
    "## Total Fares by City Type"
   ]
  },
  {
   "cell_type": "code",
   "execution_count": 561,
   "metadata": {},
   "outputs": [],
   "source": [
    "# Calculating the number of fares by city type\n",
    "rural_tot_fares = np.array(alt_city_data.loc[alt_city_data['type'] == 'Rural']['Total Fares ($)']).sum()\n",
    "urban_tot_fares = np.array(alt_city_data.loc[alt_city_data['type'] == 'Urban']['Total Fares ($)']).sum()\n",
    "suburban_tot_fares = np.array(alt_city_data.loc[alt_city_data['type'] == 'Suburban']['Total Fares ($)']).sum()\n",
    "tot_fares = alt_city_data['Total Fares ($)'].sum()\n",
    "\n",
    "perc_rural_fares = round((rural_tot_fares / tot_fares) * 100, 1)\n",
    "perc_urban_fares = round((urban_tot_fares / tot_fares) * 100, 1)\n",
    "perc_suburban_fares = round((suburban_tot_fares / tot_fares) * 100, 1)"
   ]
  },
  {
   "cell_type": "code",
   "execution_count": 562,
   "metadata": {},
   "outputs": [
    {
     "data": {
      "image/png": "[encoded data removed]",
      "text/plain": [
       "<Figure size 432x288 with 1 Axes>"
      ]
     },
     "metadata": {},
     "output_type": "display_data"
    }
   ],
   "source": [
    "# Building a pie chart\n",
    "\n",
    "labels = ['Urban', 'Surburban', 'Rural']\n",
    "sizes = [perc_urban_fares, perc_suburban_fares, perc_rural_fares]\n",
    "plt.title(\"% of Total Fares by City Type\")\n",
    "\n",
    "#colors\n",
    "colors = ['#ff9999','#66b3ff','#99ff99']\n",
    "\n",
    "#explsion\n",
    "explode = (0.05,0.05,0.05)\n",
    " \n",
    "plt.pie(sizes, colors = colors, labels=labels, autopct='%1.1f%%', startangle=45, pctdistance=0.83, explode = explode)\n",
    "\n",
    "#draw circle\n",
    "centre_circle = plt.Circle((0,0),0.70,fc='white')\n",
    "fig = plt.gcf()\n",
    "fig.gca().add_artist(centre_circle)\n",
    "\n",
    "# Equal aspect ratio ensures that pie is drawn as a circle\n",
    "plt.axis('equal')  \n",
    "plt.tight_layout()\n",
    "\n",
    "plt.savefig(\"figures/perc_total_fare.png\", bbox_inches=\"tight\")\n",
    "\n",
    "plt.show()"
   ]
  },
  {
   "cell_type": "markdown",
   "metadata": {},
   "source": [
    "## Total Rides by City Type"
   ]
  },
  {
   "cell_type": "code",
   "execution_count": 563,
   "metadata": {},
   "outputs": [],
   "source": [
    "# Calculating the number of rides by city type\n",
    "rural_tot_rides = np.array(alt_city_data.loc[alt_city_data['type'] == 'Rural']['Total Number of Ride']).sum()\n",
    "urban_tot_rides = np.array(alt_city_data.loc[alt_city_data['type'] == 'Urban']['Total Number of Ride']).sum()\n",
    "suburban_tot_rides = np.array(alt_city_data.loc[alt_city_data['type'] == 'Suburban']['Total Number of Ride']).sum()\n",
    "tot_rides = alt_city_data['Total Number of Ride'].sum()\n",
    "\n",
    "perc_rural_rides = round((rural_tot_rides / tot_rides) * 100, 1)\n",
    "perc_urban_rides = round((urban_tot_rides / tot_rides) * 100, 1)\n",
    "perc_suburban_rides = round((suburban_tot_rides / tot_rides) * 100, 1)"
   ]
  },
  {
   "cell_type": "code",
   "execution_count": 564,
   "metadata": {},
   "outputs": [
    {
     "data": {
      "image/png": "[encoded data removed]",
      "text/plain": [
       "<Figure size 432x288 with 1 Axes>"
      ]
     },
     "metadata": {},
     "output_type": "display_data"
    }
   ],
   "source": [
    "# Building a pie chart\n",
    "\n",
    "labels = ['Urban', 'Surburban', 'Rural']\n",
    "sizes = [perc_urban_rides, perc_suburban_rides, perc_rural_rides]\n",
    "plt.title(\"% of Total Rides by City Type\")\n",
    "\n",
    "#colors\n",
    "colors = ['#ff9999','#66b3ff','#99ff99']\n",
    "\n",
    "#explsion\n",
    "explode = (0.05,0.05,0.05)\n",
    " \n",
    "plt.pie(sizes, colors = colors, labels=labels, autopct='%1.1f%%', startangle=45, pctdistance=0.83, explode = explode)\n",
    "\n",
    "#draw circle\n",
    "centre_circle = plt.Circle((0,0),0.70,fc='white')\n",
    "fig = plt.gcf()\n",
    "fig.gca().add_artist(centre_circle)\n",
    "\n",
    "# Equal aspect ratio ensures that pie is drawn as a circle\n",
    "#plt.axis('equal')  \n",
    "plt.tight_layout()\n",
    "\n",
    "plt.savefig(\"figures/perc_total_rides.png\", bbox_inches=\"tight\")\n",
    "\n",
    "plt.show()"
   ]
  },
  {
   "cell_type": "markdown",
   "metadata": {},
   "source": [
    "## Total Drivers by City Type"
   ]
  },
  {
   "cell_type": "code",
   "execution_count": 565,
   "metadata": {},
   "outputs": [],
   "source": [
    "# Calculate Driver Percents\n",
    "# Calculating the number of rides by city type\n",
    "rural_tot_drivers = np.array(alt_city_data.loc[alt_city_data['type'] == 'Rural']['Total Number of Drivers']).sum()\n",
    "urban_tot_drivers = np.array(alt_city_data.loc[alt_city_data['type'] == 'Urban']['Total Number of Drivers']).sum()\n",
    "suburban_tot_drivers = np.array(alt_city_data.loc[alt_city_data['type'] == 'Suburban']['Total Number of Drivers']).sum()\n",
    "tot_drivers = alt_city_data['Total Number of Drivers'].sum()\n",
    "\n",
    "perc_rural_drivers = round((rural_tot_drivers / tot_drivers) * 100, 1)\n",
    "perc_urban_drivers = round((urban_tot_drivers / tot_drivers) * 100, 1)\n",
    "perc_suburban_drivers = round((suburban_tot_drivers / tot_drivers) * 100, 1)\n",
    "# Build Pie Charts\n",
    "\n",
    "# Save Figure\n"
   ]
  },
  {
   "cell_type": "code",
   "execution_count": 569,
   "metadata": {},
   "outputs": [
    {
     "data": {
      "image/png": "[encoded data removed]",
      "text/plain": [
       "<Figure size 432x288 with 1 Axes>"
      ]
     },
     "metadata": {},
     "output_type": "display_data"
    }
   ],
   "source": [
    "# Building a pie chart\n",
    "\n",
    "labels = ['Urban', 'Surburban', 'Rural']\n",
    "sizes = [perc_urban_drivers, perc_suburban_drivers, perc_rural_drivers]\n",
    "plt.title(\"% of Total Drivers by City Type\")\n",
    "\n",
    "#colors\n",
    "colors = ['#ff9999','#66b3ff','#99ff99']\n",
    "\n",
    "#explsion\n",
    "explode = (0.05,0.05,0.05)\n",
    " \n",
    "plt.pie(sizes, colors = colors, labels=labels, autopct='%1.1f%%', startangle=45, pctdistance=0.83, explode = explode)\n",
    "\n",
    "#draw circle\n",
    "centre_circle = plt.Circle((0,0),0.70,fc='white')\n",
    "fig = plt.gcf()\n",
    "fig.gca().add_artist(centre_circle)\n",
    "\n",
    "# Equal aspect ratio ensures that pie is drawn as a circle\n",
    "#plt.axis('equal')  \n",
    "plt.tight_layout()\n",
    "\n",
    "plt.savefig(\"figures/perc_total_drivers.png\", bbox_inches=\"tight\")\n",
    "\n",
    "plt.show()"
   ]
  },
  {
   "cell_type": "code",
   "execution_count": null,
   "metadata": {},
   "outputs": [],
   "source": []
  }
 ],
 "metadata": {
  "anaconda-cloud": {},
  "kernelspec": {
   "display_name": "Python 3",
   "language": "python",
   "name": "python3"
  },
  "language_info": {
   "codemirror_mode": {
    "name": "ipython",
    "version": 3
   },
   "file_extension": ".py",
   "mimetype": "text/x-python",
   "name": "python",
   "nbconvert_exporter": "python",
   "pygments_lexer": "ipython3",
   "version": "3.7.1"
  }
 },
 "nbformat": 4,
 "nbformat_minor": 2
}
